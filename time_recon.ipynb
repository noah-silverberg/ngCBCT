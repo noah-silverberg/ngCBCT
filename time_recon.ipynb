{
 "cells": [
  {
   "cell_type": "markdown",
   "id": "570ba848",
   "metadata": {},
   "source": [
    "### Imports and logging"
   ]
  },
  {
   "cell_type": "code",
   "execution_count": null,
   "id": "7870a5e9",
   "metadata": {},
   "outputs": [],
   "source": [
    "import logging\n",
    "\n",
    "logging.basicConfig(level=logging.INFO)\n",
    "\n",
    "logger = logging.getLogger(__name__)\n",
    "logger.setLevel(logging.DEBUG)"
   ]
  },
  {
   "cell_type": "code",
   "execution_count": null,
   "id": "49611ec9",
   "metadata": {},
   "outputs": [],
   "source": [
    "import os\n",
    "import torch\n",
    "\n",
    "# We set up CUDA first to ensure it is configured correctly\n",
    "os.environ[\"CUDA_DEVICE_ORDER\"] = \"PCI_BUS_ID\"\n",
    "os.environ[\"CUDA_VISIBLE_DEVICES\"] = \"1\"\n",
    "if torch.cuda.is_available():\n",
    "    CUDA_DEVICE = torch.device(\"cuda:0\")\n",
    "    logger.info(f\"CUDA is available. Using device: {CUDA_DEVICE}\")\n",
    "else:\n",
    "    logger.error(\"CUDA is not available. Please check your PyTorch installation. Using CPU instead...this will be slow.\")\n",
    "    CUDA_DEVICE = torch.device(\"cpu\")"
   ]
  },
  {
   "cell_type": "code",
   "execution_count": null,
   "id": "f3646047",
   "metadata": {},
   "outputs": [],
   "source": [
    "from pipeline.proj import load_projection_mat, reformat_sinogram, interpolate_projections, pad_and_reshape, divide_sinogram\n",
    "from pipeline.aggregate_prj import aggregate_saved_projections\n",
    "from pipeline.aggregate_ct import aggregate_saved_recons\n",
    "from pipeline.apply_model import apply_model_to_projections, load_model, apply_model_to_recons\n",
    "from pipeline.utils import ensure_dir, read_scans_agg_file\n",
    "from pipeline.paths import Directories, Files\n",
    "import scipy.io\n",
    "import matplotlib.pyplot as plt\n",
    "import numpy as np\n",
    "import yaml\n",
    "import importlib\n",
    "import copy\n",
    "from tqdm import tqdm\n",
    "import gc\n",
    "import tigre.utilities.gpu as gpu\n",
    "from pipeline.FDK_half.FDK_half import FDKHalf\n",
    "from pipeline.utils import get_geometry\n",
    "import time"
   ]
  },
  {
   "cell_type": "markdown",
   "id": "aa3be59d",
   "metadata": {},
   "source": [
    "### Pick scan"
   ]
  },
  {
   "cell_type": "code",
   "execution_count": null,
   "id": "6be51252",
   "metadata": {},
   "outputs": [],
   "source": [
    "PHASE = '7'\n",
    "DATA_VERSION = '13'\n",
    "PATIENT = '01'\n",
    "SCAN = '01'\n",
    "SCAN_TYPE = 'HF'\n",
    "PD_MODEL_VERSION = 'MK7_07'\n",
    "PD_NETWORK_NAME = 'IResNet'\n",
    "ID_MODEL_VERSION = 'MK7_07'\n",
    "ID_NETWORK_NAME = 'IResNet'"
   ]
  },
  {
   "cell_type": "markdown",
   "id": "e53c1388",
   "metadata": {},
   "source": [
    "### File system"
   ]
  },
  {
   "cell_type": "code",
   "execution_count": null,
   "id": "608ed985",
   "metadata": {},
   "outputs": [],
   "source": [
    "# Base directory\n",
    "WORK_ROOT = \"D:/NoahSilverberg/ngCBCT\"\n",
    "\n",
    "# NSG_CBCT Path where the raw matlab data is stored\n",
    "NSG_CBCT_PATH = \"D:/MitchellYu/NSG_CBCT\"\n",
    "\n",
    "# Directory with all files specific to this phase/data version\n",
    "PHASE_DATAVER_DIR = os.path.join(\n",
    "    WORK_ROOT, f\"phase{PHASE}\", f\"DS{DATA_VERSION}\"\n",
    ")\n",
    "\n",
    "DIRECTORIES = Directories(\n",
    "    mat_projections_dir=os.path.join(NSG_CBCT_PATH, \"data/prj/HF/mat\"),\n",
    "    pt_projections_dir=os.path.join(WORK_ROOT, \"prj_pt\"),\n",
    "    projections_aggregate_dir=os.path.join(PHASE_DATAVER_DIR, \"aggregates\", \"projections\"),\n",
    "    projections_model_dir=os.path.join(PHASE_DATAVER_DIR, \"models\", \"projections\"),\n",
    "    projections_results_dir=os.path.join(PHASE_DATAVER_DIR, \"results\", \"projections\"),\n",
    "    projections_gated_dir=os.path.join(WORK_ROOT, \"gated\", \"prj_mat\"),\n",
    "    reconstructions_dir=os.path.join(PHASE_DATAVER_DIR, \"reconstructions\"),\n",
    "    reconstructions_gated_dir=os.path.join(WORK_ROOT, \"gated\", \"fdk_recon\"),\n",
    "    images_aggregate_dir=os.path.join(PHASE_DATAVER_DIR, \"aggregates\", \"images\"),\n",
    "    images_model_dir=os.path.join(PHASE_DATAVER_DIR, \"models\", \"images\"),\n",
    "    images_results_dir=os.path.join(PHASE_DATAVER_DIR, \"results\", \"images\"),\n",
    ")\n",
    "\n",
    "FILES = Files(DIRECTORIES)"
   ]
  },
  {
   "cell_type": "markdown",
   "id": "2af110af",
   "metadata": {},
   "source": [
    "### Run"
   ]
  },
  {
   "cell_type": "code",
   "execution_count": null,
   "id": "24b20fc9",
   "metadata": {},
   "outputs": [],
   "source": [
    "start_time = time.perf_counter()"
   ]
  },
  {
   "cell_type": "code",
   "execution_count": null,
   "id": "7fd2ad54",
   "metadata": {},
   "outputs": [],
   "source": [
    "### Load PD model\n",
    "\n",
    "model_path = FILES.get_model_filepath(PD_MODEL_VERSION, \"PROJ\")\n",
    "PD_model = load_model(PD_NETWORK_NAME, model_path, CUDA_DEVICE)\n",
    "\n",
    "pd_model_load_time = time.perf_counter()"
   ]
  },
  {
   "cell_type": "code",
   "execution_count": null,
   "id": "6f0f7882",
   "metadata": {},
   "outputs": [],
   "source": [
    "### Load scans and apply PD model\n",
    "\n",
    "mat_path = FILES.get_projection_mat_filepath(PATIENT, SCAN, SCAN_TYPE)\n",
    "gated_pt_path = FILES.get_projection_pt_filepath(PATIENT, SCAN, SCAN_TYPE, gated=True)\n",
    "ng_pt_path = FILES.get_projection_pt_filepath(PATIENT, SCAN, SCAN_TYPE, gated=False)\n",
    "\n",
    "_, cnn_mat = apply_model_to_projections(PD_model, SCAN_TYPE, mat_path, gated_pt_path, ng_pt_path, CUDA_DEVICE)\n",
    "\n",
    "pd_model_apply_time = time.perf_counter()"
   ]
  },
  {
   "cell_type": "code",
   "execution_count": null,
   "id": "89fa1ee5",
   "metadata": {},
   "outputs": [],
   "source": [
    "### FDK\n",
    "\n",
    "if SCAN_TYPE == 'HF':\n",
    "    fdk = FDKHalf()(cnn_mat['prj'], get_geometry(), cnn_mat['angles'].flatten(), filter=\"hann\", parker=True)\n",
    "    fdk = torch.from_numpy(fdk).to(CUDA_DEVICE)\n",
    "else:\n",
    "    raise NotImplementedError\n",
    "\n",
    "fdk_time = time.perf_counter()"
   ]
  },
  {
   "cell_type": "code",
   "execution_count": null,
   "id": "2df95c90",
   "metadata": {},
   "outputs": [],
   "source": [
    "### Load ID model\n",
    "\n",
    "model_path = FILES.get_model_filepath(ID_MODEL_VERSION, 'IMAG')\n",
    "\n",
    "ID_model = load_model(ID_NETWORK_NAME, model_path, CUDA_DEVICE)\n",
    "\n",
    "id_model_load_time = time.perf_counter()"
   ]
  },
  {
   "cell_type": "code",
   "execution_count": null,
   "id": "5009e664",
   "metadata": {},
   "outputs": [],
   "source": [
    "### Pass FDK through ID model\n",
    "\n",
    "ng_pt_path = FILES.get_recon_filepath(PD_MODEL_VERSION, PATIENT, SCAN, SCAN_TYPE, gated=False)\n",
    "\n",
    "apply_model_to_recons(ID_model, ng_pt_path, CUDA_DEVICE)\n",
    "\n",
    "id_model_apply_time = time.perf_counter()"
   ]
  },
  {
   "cell_type": "code",
   "execution_count": null,
   "id": "aaf24caa",
   "metadata": {},
   "outputs": [],
   "source": [
    "### Print timings\n",
    "steps = [\n",
    "    (\"Load PD model\", pd_model_load_time - start_time),\n",
    "    (\"Apply PD model\", pd_model_apply_time - pd_model_load_time),\n",
    "    (\"FDK\", fdk_time - pd_model_apply_time),\n",
    "    (\"Load ID model\", id_model_load_time - fdk_time),\n",
    "    (\"Apply ID model\", id_model_apply_time - id_model_load_time),\n",
    "]\n",
    "\n",
    "cumulative_time = 0\n",
    "print(f\"{'Step':<20}|{'Time (s)':<15}|{'Cumulative Time (s)':<20}\")\n",
    "print(\"-\" * 55)\n",
    "for step, duration in steps:\n",
    "    cumulative_time += duration\n",
    "    print(f\"{step:<20}|{duration:<15.2f}|{cumulative_time:<20.2f}\")"
   ]
  }
 ],
 "metadata": {
  "language_info": {
   "name": "python"
  }
 },
 "nbformat": 4,
 "nbformat_minor": 5
}
