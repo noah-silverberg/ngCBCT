{
 "cells": [
  {
   "cell_type": "markdown",
   "id": "31b49a2c",
   "metadata": {},
   "source": [
    "# 1. Data Preparation: projection interpolation"
   ]
  },
  {
   "cell_type": "code",
   "execution_count": null,
   "id": "46ccc147",
   "metadata": {},
   "outputs": [],
   "source": [
    "from pipeline.proj import load_projection_mat, reformat_for_tigre, interpolate_projections, pad_and_reshape\n",
    "# patient, scan, scan_type set by user input\n",
    "odd_index, angles, prj = load_projection_mat(patient, scan, scan_type)\n",
    "prj_gcbct, angles1 = reformat_for_tigre(prj, angles)\n",
    "prj_ngcbct_li = interpolate_projections(prj_gcbct, odd_index)\n",
    "combined = pad_and_reshape(prj_ngcbct_li, v_dim)\n",
    "torch.save(combined, ...)"
   ]
  },
  {
   "cell_type": "markdown",
   "id": "df4e695f",
   "metadata": {},
   "source": [
    "# 2. Aggregate projections for train/val/test"
   ]
  },
  {
   "cell_type": "code",
   "execution_count": null,
   "id": "188d3403",
   "metadata": {},
   "outputs": [],
   "source": [
    "from pipeline.aggregate_prj import aggregate_saved_projections\n",
    "aggregate_saved_projections(data_version, 'HF', 'train')\n",
    "aggregate_saved_projections(data_version, 'HF', 'validation')\n",
    "aggregate_saved_projections(data_version, 'HF', 'test')"
   ]
  },
  {
   "cell_type": "markdown",
   "id": "2d6f776e",
   "metadata": {},
   "source": [
    "# 3. Aggregate CT volumes"
   ]
  },
  {
   "cell_type": "code",
   "execution_count": null,
   "id": "b87ecdee",
   "metadata": {},
   "outputs": [],
   "source": [
    "aggregate_ct_volumes(data_version, 'train', scan_type=0, augment=False)\n",
    "aggregate_ct_volumes(data_version, 'train', scan_type=0, augment=True)\n",
    "# repeat for validation/test"
   ]
  },
  {
   "cell_type": "markdown",
   "id": "87ae3e79",
   "metadata": {},
   "source": [
    "# 4. Training"
   ]
  },
  {
   "cell_type": "code",
   "execution_count": null,
   "id": "daead9ff",
   "metadata": {},
   "outputs": [],
   "source": [
    "from pipeline.launcher import run_app\n",
    "run_app('train_app_MK6.TrainingApp', [f'--epoch=50', f'--network=IResNet', f'--model_name={model_name}', f'--data_ver={data_version}', '--shuffle=True', '--augment==True'])"
   ]
  },
  {
   "cell_type": "markdown",
   "id": "13ef2c2c",
   "metadata": {},
   "source": [
    "# 5. Apply model to projections and reconstruction"
   ]
  },
  {
   "cell_type": "code",
   "execution_count": null,
   "id": "28452019",
   "metadata": {},
   "outputs": [],
   "source": [
    "from pipeline.apply_model import apply_model_to_projections\n",
    "prj_mix = apply_model_to_projections(patient_id, scan_id, 'HF', data_version, model_name, v_dim, odd_index, angles, prj_gcbct_tensor, prj_ngcbct_li_tensor)"
   ]
  },
  {
   "cell_type": "markdown",
   "id": "55f74da1",
   "metadata": {},
   "source": [
    "# 6. Inference on test scans for full 3D"
   ]
  },
  {
   "cell_type": "code",
   "execution_count": null,
   "id": "8f59906f",
   "metadata": {},
   "outputs": [],
   "source": [
    "from pipeline.infer3d import inference_3d\n",
    "vol = inference_3d(patient_id, scan_id, 'HF', data_version, model_name, 'tumor_location_panc.pt')"
   ]
  }
 ],
 "metadata": {
  "language_info": {
   "name": "python"
  }
 },
 "nbformat": 4,
 "nbformat_minor": 5
}
