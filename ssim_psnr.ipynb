{
 "cells": [
  {
   "cell_type": "markdown",
   "id": "494307c6",
   "metadata": {},
   "source": [
    "# Imports"
   ]
  },
  {
   "cell_type": "code",
   "execution_count": 38,
   "id": "c5a13b80",
   "metadata": {},
   "outputs": [],
   "source": [
    "%matplotlib widget\n",
    "from scipy.io import loadmat\n",
    "from ipywidgets import interact, IntSlider, fixed\n",
    "import matplotlib.pyplot as plt\n",
    "import torch\n",
    "import numpy as np"
   ]
  },
  {
   "cell_type": "markdown",
   "id": "8e45df4f",
   "metadata": {},
   "source": [
    "# Data Loading and Pre-processing"
   ]
  },
  {
   "cell_type": "code",
   "execution_count": 39,
   "id": "f700ea67",
   "metadata": {},
   "outputs": [
    {
     "name": "stdout",
     "output_type": "stream",
     "text": [
      "dict_keys(['__header__', '__version__', '__globals__', 'u_FDK_ROI_fullView'])\n",
      "dict_keys(['__header__', '__version__', '__globals__', 'u_FDK_ROI'])\n",
      "dict_keys(['__header__', '__version__', '__globals__', 'u_PL_ROI'])\n"
     ]
    }
   ],
   "source": [
    "# Load the MATLAB files\n",
    "gt_mat = loadmat(\"Data/3D_recon/FF/recon_p06.FF01.u_FDK_ROI_fullView.mat\")\n",
    "fdk_mat = loadmat(\"Data/3D_recon/FF/recon_p06.FF01.u_FDK_ROI.mat\")\n",
    "pl_mat = loadmat(\"Data/3D_recon/FF/recon_p06.FF01.u_PL_ROI.b1.mat\")\n",
    "\n",
    "# Print the keys of the loaded dictionaries\n",
    "print(gt_mat.keys())\n",
    "print(fdk_mat.keys())\n",
    "print(pl_mat.keys())"
   ]
  },
  {
   "cell_type": "code",
   "execution_count": 40,
   "id": "34d5e42d",
   "metadata": {},
   "outputs": [
    {
     "name": "stdout",
     "output_type": "stream",
     "text": [
      "Initial shapes:\n",
      "GT: (512, 512, 200)\n",
      "FDK: (512, 512, 200)\n",
      "PL: (512, 512, 200)\n",
      "\n",
      "Shapes after removing slices:\n",
      "GT: (256, 256, 160)\n",
      "FDK: (256, 256, 160)\n",
      "PL: (256, 256, 160)\n"
     ]
    }
   ],
   "source": [
    "# Extract the scan data\n",
    "gt = gt_mat['u_FDK_ROI_fullView']\n",
    "fdk = fdk_mat['u_FDK_ROI']\n",
    "pl = pl_mat['u_PL_ROI']\n",
    "\n",
    "# Check their shapes\n",
    "print(\"Initial shapes:\")\n",
    "print(\"GT:\", gt.shape)\n",
    "print(\"FDK:\", fdk.shape)\n",
    "print(\"PL:\", pl.shape)\n",
    "\n",
    "# Remove the first and last 20 slices\n",
    "gt = gt[..., 20:-20]\n",
    "fdk = fdk[..., 20:-20]\n",
    "pl = pl[..., 20:-20]\n",
    "\n",
    "# Crop\n",
    "gt = gt[128:-128, 128:-128]\n",
    "fdk = fdk[128:-128, 128:-128]\n",
    "pl = pl[128:-128, 128:-128]\n",
    "\n",
    "# Check the new shapes (for verification)\n",
    "print(\"\\nShapes after removing slices:\")\n",
    "print(\"GT:\", gt.shape)\n",
    "print(\"FDK:\", fdk.shape)\n",
    "print(\"PL:\", pl.shape)"
   ]
  },
  {
   "cell_type": "code",
   "execution_count": 41,
   "id": "61643ce7",
   "metadata": {},
   "outputs": [
    {
     "data": {
      "text/plain": [
       "(256, 256, 160)"
      ]
     },
     "execution_count": 41,
     "metadata": {},
     "output_type": "execute_result"
    }
   ],
   "source": [
    "# NOTE: This is a numpy array, not a torch tensor\n",
    "ddCNN = torch.load(\"Data/3D_recon/FF/p06.FF01_IResNet_MK6_DS14.2_run1_3D.pt\", weights_only=False)\n",
    "\n",
    "# The loaded array should already have the correct number of slices\n",
    "ddCNN.shape"
   ]
  },
  {
   "cell_type": "markdown",
   "id": "f0ce28be",
   "metadata": {},
   "source": [
    "# Plotting"
   ]
  },
  {
   "cell_type": "code",
   "execution_count": null,
   "id": "b088d15e",
   "metadata": {},
   "outputs": [],
   "source": [
    "def show_volumes(volumes, titles, slice_idx):\n",
    "    \"\"\"\n",
    "    Display a list of 3D volumes side-by-side at a given slice index.\n",
    "    \n",
    "    volumes : list of ndarray, each shape (H, W, N)\n",
    "    titles  : list of str, same length as volumes\n",
    "    slice_idx: int, which slice to display\n",
    "    \"\"\"\n",
    "    n = len(volumes)\n",
    "    fig, axes = plt.subplots(1, n, figsize=(4*n, 5))\n",
    "    \n",
    "    # If only one volume, axes is not a list\n",
    "    if n == 1:\n",
    "        axes = [axes]\n",
    "    \n",
    "    for ax, vol, title in zip(axes, volumes, titles):\n",
    "        ax.imshow(vol[:, :, slice_idx], cmap='gray')\n",
    "        ax.set_title(title)\n",
    "        ax.axis('off')\n",
    "    \n",
    "    plt.tight_layout()\n",
    "    plt.show()"
   ]
  },
  {
   "cell_type": "code",
   "execution_count": 43,
   "id": "d593ab46",
   "metadata": {},
   "outputs": [
    {
     "data": {
      "application/vnd.jupyter.widget-view+json": {
       "model_id": "67d674aeb9234cde805652150535842a",
       "version_major": 2,
       "version_minor": 0
      },
      "text/plain": [
       "interactive(children=(IntSlider(value=0, description='Slice', max=159), Output()), _dom_classes=('widget-inter…"
      ]
     },
     "metadata": {},
     "output_type": "display_data"
    },
    {
     "data": {
      "text/plain": [
       "<function __main__.show_volumes(volumes, titles, slice_idx)>"
      ]
     },
     "execution_count": 43,
     "metadata": {},
     "output_type": "execute_result"
    }
   ],
   "source": [
    "vols = [\n",
    "    gt,\n",
    "    fdk,\n",
    "    pl,\n",
    "    ddCNN,\n",
    "]\n",
    "titles = [\n",
    "    'Ground Truth',\n",
    "    'FDK Reconstruction',\n",
    "    'PL Reconstruction',\n",
    "    'DDCNN Reconstruction'\n",
    "]\n",
    "\n",
    "# 3. Hook it up to the slider\n",
    "interact(\n",
    "    show_volumes,\n",
    "    volumes=fixed(vols),\n",
    "    titles=fixed(titles),\n",
    "    slice_idx=IntSlider(\n",
    "        min=0,\n",
    "        max=gt.shape[2] - 1,\n",
    "        step=1,\n",
    "        value=0,\n",
    "        description='Slice'\n",
    "    )\n",
    ")"
   ]
  },
  {
   "cell_type": "code",
   "execution_count": null,
   "id": "7bc764a3",
   "metadata": {},
   "outputs": [],
   "source": []
  }
 ],
 "metadata": {
  "kernelspec": {
   "display_name": "numpy",
   "language": "python",
   "name": "python3"
  },
  "language_info": {
   "codemirror_mode": {
    "name": "ipython",
    "version": 3
   },
   "file_extension": ".py",
   "mimetype": "text/x-python",
   "name": "python",
   "nbconvert_exporter": "python",
   "pygments_lexer": "ipython3",
   "version": "3.10.14"
  }
 },
 "nbformat": 4,
 "nbformat_minor": 5
}
