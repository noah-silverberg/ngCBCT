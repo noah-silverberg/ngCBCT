{
 "cells": [
  {
   "cell_type": "code",
   "execution_count": 1,
   "id": "0945cc21",
   "metadata": {},
   "outputs": [],
   "source": [
    "import tigre\n",
    "import numpy as np\n",
    "#from matplotlib import pyplot as plt\n",
    "from scipy.io import loadmat\n",
    "from FDK_half import FDKHalf\n",
    "from view3D import display_3d_array_views\n",
    "from view3D import display_3d_array_views_jupyter\n"
   ]
  },
  {
   "cell_type": "code",
   "execution_count": 2,
   "id": "ef251e77",
   "metadata": {},
   "outputs": [],
   "source": [
    "geo = tigre.geometry_default(high_resolution=True)\n",
    "geo.nDetector=np.array([384,512])\n",
    "geo.dDetector=np.array([0.776,0.776])\n",
    "geo.sDetector=np.array([x*y for x,y in zip(geo.nDetector,geo.dDetector)])\n",
    "geo.nVoxel=np.array([220,450,450])\n",
    "geo.dVoxel=np.array([1,1,1])\n",
    "geo.sVoxel=np.array([x*y for x,y in zip(geo.nVoxel,geo.dVoxel)])\n",
    "geo.offDetector=np.array([-2,148])\n",
    "geo.DSD=1500\n",
    "geo.accuracy=0.5"
   ]
  },
  {
   "cell_type": "code",
   "execution_count": 3,
   "id": "5acf1652",
   "metadata": {},
   "outputs": [],
   "source": [
    "path=\"\\\\\\\\pisidsmph\\LI_AI_DATA\\Yabo\\SPARE\\\\raw\\MonteCarloDatasets\\MC_V_P7_NS_01.mat\""
   ]
  },
  {
   "cell_type": "code",
   "execution_count": 4,
   "id": "3d7ee43e",
   "metadata": {},
   "outputs": [],
   "source": [
    "rawdata = loadmat(path)['data']\n",
    "projs=rawdata['projs'][0][0]\n",
    "projs=np.transpose(projs,(2,1,0))\n",
    "# -90 degree for the data from Yabo\n",
    "angles=np.squeeze(rawdata['angles'][0][0])-90.0\n",
    "anglesrad = np.deg2rad(angles)"
   ]
  },
  {
   "cell_type": "code",
   "execution_count": 7,
   "id": "70c53e2b",
   "metadata": {},
   "outputs": [],
   "source": [
    "# standard FDK reconsutrction\n",
    "fdk1=tigre.algorithms.fdk(projs,geo,anglesrad)"
   ]
  },
  {
   "cell_type": "code",
   "execution_count": 5,
   "id": "e4cee18f",
   "metadata": {},
   "outputs": [],
   "source": [
    "# FKD_half fan reconstruction. Modification from Hao's code in Matlab\n",
    "# Initialize reconstructor\n",
    "fdkhalf = FDKHalf()\n",
    "# Reconstruct\n",
    "result = fdkhalf(projs, geo, anglesrad, filter='hann', parker=True)"
   ]
  },
  {
   "cell_type": "code",
   "execution_count": 6,
   "id": "25e4cf3f",
   "metadata": {},
   "outputs": [
    {
     "data": {
      "application/vnd.jupyter.widget-view+json": {
       "model_id": "a7bc7a0e6ba942098da8ef84b29592a9",
       "version_major": 2,
       "version_minor": 0
      },
      "text/plain": [
       "interactive(children=(IntSlider(value=110, description='X Slice', max=219), IntSlider(value=225, description='…"
      ]
     },
     "metadata": {},
     "output_type": "display_data"
    }
   ],
   "source": [
    "\n",
    "#interative 3d view \n",
    "#disply_3d_array_view(result)\n",
    "\n",
    "#interative 3d view when using jupyter\n",
    "display_3d_array_views_jupyter(result)"
   ]
  }
 ],
 "metadata": {
  "kernelspec": {
   "display_name": "TIGRE",
   "language": "python",
   "name": "python3"
  },
  "language_info": {
   "codemirror_mode": {
    "name": "ipython",
    "version": 3
   },
   "file_extension": ".py",
   "mimetype": "text/x-python",
   "name": "python",
   "nbconvert_exporter": "python",
   "pygments_lexer": "ipython3",
   "version": "3.10.13"
  },
  "vscode": {
   "interpreter": {
    "hash": "aadb119979b3d4a737868b95aa782a5a95cabf044b637c9704a3e26a7f677476"
   }
  }
 },
 "nbformat": 4,
 "nbformat_minor": 5
}
