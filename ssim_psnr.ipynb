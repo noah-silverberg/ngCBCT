{
 "cells": [
  {
   "cell_type": "markdown",
   "id": "494307c6",
   "metadata": {},
   "source": [
    "# Imports"
   ]
  },
  {
   "cell_type": "code",
   "execution_count": 65,
   "id": "c5a13b80",
   "metadata": {},
   "outputs": [],
   "source": [
    "%matplotlib widget\n",
    "from scipy.io import loadmat\n",
    "from ipywidgets import interact, IntSlider, fixed\n",
    "import matplotlib.pyplot as plt\n",
    "import torch\n",
    "import numpy as np\n",
    "from skimage.metrics import structural_similarity as ssim"
   ]
  },
  {
   "cell_type": "markdown",
   "id": "8e45df4f",
   "metadata": {},
   "source": [
    "# Data Loading and Pre-processing"
   ]
  },
  {
   "cell_type": "code",
   "execution_count": 66,
   "id": "f700ea67",
   "metadata": {},
   "outputs": [
    {
     "name": "stdout",
     "output_type": "stream",
     "text": [
      "dict_keys(['__header__', '__version__', '__globals__', 'u_FDK_ROI_fullView'])\n",
      "dict_keys(['__header__', '__version__', '__globals__', 'u_FDK_ROI'])\n",
      "dict_keys(['__header__', '__version__', '__globals__', 'u_PL_ROI'])\n"
     ]
    }
   ],
   "source": [
    "# Load the MATLAB files\n",
    "gt_mat = loadmat(\"Data/3D_recon/FF/recon_p06.FF01.u_FDK_ROI_fullView.mat\")\n",
    "fdk_mat = loadmat(\"Data/3D_recon/FF/recon_p06.FF01.u_FDK_ROI.mat\")\n",
    "pl_mat = loadmat(\"Data/3D_recon/FF/recon_p06.FF01.u_PL_ROI.b1.mat\")\n",
    "\n",
    "# Print the keys of the loaded dictionaries\n",
    "print(gt_mat.keys())\n",
    "print(fdk_mat.keys())\n",
    "print(pl_mat.keys())"
   ]
  },
  {
   "cell_type": "code",
   "execution_count": 67,
   "id": "34d5e42d",
   "metadata": {},
   "outputs": [
    {
     "name": "stdout",
     "output_type": "stream",
     "text": [
      "Initial shapes:\n",
      "GT: (512, 512, 200)\n",
      "FDK: (512, 512, 200)\n",
      "PL: (512, 512, 200)\n",
      "\n",
      "Shapes after removing slices:\n",
      "GT: (256, 256, 160)\n",
      "FDK: (256, 256, 160)\n",
      "PL: (256, 256, 160)\n"
     ]
    }
   ],
   "source": [
    "# Extract the scan data\n",
    "gt = gt_mat['u_FDK_ROI_fullView']\n",
    "fdk = fdk_mat['u_FDK_ROI']\n",
    "pl = pl_mat['u_PL_ROI']\n",
    "\n",
    "# Check their shapes\n",
    "print(\"Initial shapes:\")\n",
    "print(\"GT:\", gt.shape)\n",
    "print(\"FDK:\", fdk.shape)\n",
    "print(\"PL:\", pl.shape)\n",
    "\n",
    "# Remove the first and last 20 slices\n",
    "gt = gt[..., 20:-20]\n",
    "fdk = fdk[..., 20:-20]\n",
    "pl = pl[..., 20:-20]\n",
    "\n",
    "# Crop\n",
    "gt = gt[128:-128, 128:-128]\n",
    "fdk = fdk[128:-128, 128:-128]\n",
    "pl = pl[128:-128, 128:-128]\n",
    "\n",
    "# Check the new shapes (for verification)\n",
    "print(\"\\nShapes after removing slices:\")\n",
    "print(\"GT:\", gt.shape)\n",
    "print(\"FDK:\", fdk.shape)\n",
    "print(\"PL:\", pl.shape)"
   ]
  },
  {
   "cell_type": "code",
   "execution_count": 68,
   "id": "61643ce7",
   "metadata": {},
   "outputs": [
    {
     "data": {
      "text/plain": [
       "(256, 256, 160)"
      ]
     },
     "execution_count": 68,
     "metadata": {},
     "output_type": "execute_result"
    }
   ],
   "source": [
    "# NOTE: This is a numpy array, not a torch tensor\n",
    "ddCNN = torch.load(\"Data/3D_recon/FF/p06.FF01_IResNet_MK6_DS14.2_run1_3D.pt\", weights_only=False)\n",
    "\n",
    "# The loaded array should already have the correct number of slices\n",
    "ddCNN.shape"
   ]
  },
  {
   "cell_type": "markdown",
   "id": "f0ce28be",
   "metadata": {},
   "source": [
    "# Plotting"
   ]
  },
  {
   "cell_type": "code",
   "execution_count": null,
   "id": "b088d15e",
   "metadata": {},
   "outputs": [],
   "source": [
    "def show_volumes(gt, recons, recon_titles, slice_idx):\n",
    "    \"\"\"\n",
    "    gt          : ndarray, ground truth volume (H, W, N)\n",
    "    recons      : list of ndarrays, reconstructions (each H, W, N)\n",
    "    recon_titles: list of str, titles for recs\n",
    "    slice_idx   : int, which slice to display\n",
    "    \"\"\"\n",
    "    # build full lists\n",
    "    volumes = [gt] + recons\n",
    "    titles  = ['Ground Truth'] + recon_titles\n",
    "\n",
    "    # TODO: is this OK?\n",
    "    # normalize each slice to [0,1]\n",
    "    for vol in volumes:\n",
    "        for j in range(vol.shape[-1]):\n",
    "            slice_ = vol[..., j]\n",
    "            vol[..., j] = (slice_ - slice_.min()) / (slice_.max() - slice_.min())\n",
    "\n",
    "    n = len(volumes)\n",
    "    fig, axes = plt.subplots(2, n, figsize=(3*n, 8))\n",
    "\n",
    "    # first row: original volumes\n",
    "    for i, (vol, title) in enumerate(zip(volumes, titles)):\n",
    "        ax = axes[0, i]\n",
    "        ax.imshow(vol[..., slice_idx], cmap='gray')\n",
    "        ax.set_title(title)\n",
    "        ax.axis('off')\n",
    "\n",
    "    # second row: SSIM maps (skip GT in col 0)\n",
    "    axes[1, 0].axis('off')\n",
    "    ssim_axes = []\n",
    "    for i in range(1, n):\n",
    "        ax = axes[1, i]\n",
    "        gt_slice    = gt[..., slice_idx]\n",
    "        recon_slice = recons[i-1][..., slice_idx]\n",
    "        _, ssim_map = ssim(\n",
    "            gt_slice, recon_slice,\n",
    "            full=True,\n",
    "            data_range=1.0, # TODO: data_range,\n",
    "            K1=0.03,\n",
    "            K2=0.06,\n",
    "            win_size=11,\n",
    "        )\n",
    "        im = ax.imshow(ssim_map, cmap='viridis', vmin=0, vmax=1)\n",
    "        ax.set_title(f'SSIM {recon_titles[i-1]}')\n",
    "        ax.axis('off')\n",
    "        ssim_axes.append(ax)\n",
    "\n",
    "    # shared colorbar for all SSIM plots\n",
    "    fig.colorbar(\n",
    "        im,\n",
    "        ax=ssim_axes,\n",
    "        location='right',\n",
    "        fraction=0.02,\n",
    "        pad=0.02\n",
    "    )\n",
    "\n",
    "    # adjust to make room for colorbar\n",
    "    fig.subplots_adjust(right=0.85)\n",
    "\n",
    "    plt.show()"
   ]
  },
  {
   "cell_type": "code",
   "execution_count": null,
   "id": "d593ab46",
   "metadata": {},
   "outputs": [
    {
     "data": {
      "application/vnd.jupyter.widget-view+json": {
       "model_id": "e7e7d2f4948a4d04a8609c1bf14f58f7",
       "version_major": 2,
       "version_minor": 0
      },
      "text/plain": [
       "interactive(children=(IntSlider(value=0, description='Slice', max=159), Output()), _dom_classes=('widget-inter…"
      ]
     },
     "metadata": {},
     "output_type": "display_data"
    },
    {
     "data": {
      "text/plain": [
       "<function __main__.show_volumes(gt, recons, recon_titles, slice_idx)>"
      ]
     },
     "execution_count": 101,
     "metadata": {},
     "output_type": "execute_result"
    }
   ],
   "source": [
    "recons = [fdk, pl, ddCNN]\n",
    "recon_titles = [\n",
    "    'FDK Reconstruction',\n",
    "    'PL Reconstruction',\n",
    "    'DDCNN Reconstruction'\n",
    "]\n",
    "\n",
    "interact(\n",
    "    show_volumes,\n",
    "    gt=fixed(gt),\n",
    "    recons=fixed(recons),\n",
    "    recon_titles=fixed(recon_titles),\n",
    "    slice_idx=IntSlider(\n",
    "        min=0,\n",
    "        max=gt.shape[2] - 1,\n",
    "        step=1,\n",
    "        value=0,\n",
    "        description='Slice'\n",
    "    )\n",
    ")"
   ]
  },
  {
   "cell_type": "code",
   "execution_count": null,
   "id": "6eac7d20",
   "metadata": {},
   "outputs": [],
   "source": []
  }
 ],
 "metadata": {
  "kernelspec": {
   "display_name": "numpy",
   "language": "python",
   "name": "python3"
  },
  "language_info": {
   "codemirror_mode": {
    "name": "ipython",
    "version": 3
   },
   "file_extension": ".py",
   "mimetype": "text/x-python",
   "name": "python",
   "nbconvert_exporter": "python",
   "pygments_lexer": "ipython3",
   "version": "3.10.14"
  }
 },
 "nbformat": 4,
 "nbformat_minor": 5
}
